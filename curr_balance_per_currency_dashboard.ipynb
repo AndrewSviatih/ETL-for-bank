{
 "cells": [
  {
   "cell_type": "code",
   "execution_count": 26,
   "id": "02fe1818",
   "metadata": {},
   "outputs": [],
   "source": [
    "import pandas as pd\n",
    "import seaborn as sns\n",
    "import matplotlib as plt"
   ]
  },
  {
   "cell_type": "code",
   "execution_count": 27,
   "id": "1dbefbbc",
   "metadata": {},
   "outputs": [],
   "source": [
    "cur_balance = pd.read_csv('last_data_csv')"
   ]
  },
  {
   "cell_type": "code",
   "execution_count": 18,
   "id": "e2ad6bec",
   "metadata": {},
   "outputs": [
    {
     "data": {
      "text/html": [
       "<div>\n",
       "<style scoped>\n",
       "    .dataframe tbody tr th:only-of-type {\n",
       "        vertical-align: middle;\n",
       "    }\n",
       "\n",
       "    .dataframe tbody tr th {\n",
       "        vertical-align: top;\n",
       "    }\n",
       "\n",
       "    .dataframe thead th {\n",
       "        text-align: right;\n",
       "    }\n",
       "</style>\n",
       "<table border=\"1\" class=\"dataframe\">\n",
       "  <thead>\n",
       "    <tr style=\"text-align: right;\">\n",
       "      <th></th>\n",
       "      <th>name</th>\n",
       "      <th>lastname</th>\n",
       "      <th>currency_name</th>\n",
       "      <th>currency_in_usd</th>\n",
       "    </tr>\n",
       "  </thead>\n",
       "  <tbody>\n",
       "    <tr>\n",
       "      <th>0</th>\n",
       "      <td>Иван</td>\n",
       "      <td>Иванов</td>\n",
       "      <td>EUR</td>\n",
       "      <td>150.100</td>\n",
       "    </tr>\n",
       "    <tr>\n",
       "      <th>1</th>\n",
       "      <td>Иван</td>\n",
       "      <td>Иванов</td>\n",
       "      <td>EUR</td>\n",
       "      <td>17.000</td>\n",
       "    </tr>\n",
       "    <tr>\n",
       "      <th>2</th>\n",
       "      <td>Иван</td>\n",
       "      <td>Иванов</td>\n",
       "      <td>EUR</td>\n",
       "      <td>158.000</td>\n",
       "    </tr>\n",
       "    <tr>\n",
       "      <th>3</th>\n",
       "      <td>not defined</td>\n",
       "      <td>not defined</td>\n",
       "      <td>JPY</td>\n",
       "      <td>0.948</td>\n",
       "    </tr>\n",
       "    <tr>\n",
       "      <th>4</th>\n",
       "      <td>not defined</td>\n",
       "      <td>not defined</td>\n",
       "      <td>USD</td>\n",
       "      <td>120.000</td>\n",
       "    </tr>\n",
       "  </tbody>\n",
       "</table>\n",
       "</div>"
      ],
      "text/plain": [
       "          name     lastname currency_name  currency_in_usd\n",
       "0         Иван       Иванов           EUR          150.100\n",
       "1         Иван       Иванов           EUR           17.000\n",
       "2         Иван       Иванов           EUR          158.000\n",
       "3  not defined  not defined           JPY            0.948\n",
       "4  not defined  not defined           USD          120.000"
      ]
     },
     "execution_count": 18,
     "metadata": {},
     "output_type": "execute_result"
    }
   ],
   "source": [
    "cur_balance.head()"
   ]
  },
  {
   "cell_type": "code",
   "execution_count": 28,
   "id": "1b328710",
   "metadata": {},
   "outputs": [],
   "source": [
    "cur_balance[\"full_name\"] = cur_balance[\"name\"] + ' ' + cur_balance[\"lastname\"]\n",
    "\n",
    "cur_balance = cur_balance.drop(['name', 'lastname'], axis=1)"
   ]
  },
  {
   "cell_type": "code",
   "execution_count": 21,
   "id": "d4319a40",
   "metadata": {},
   "outputs": [
    {
     "data": {
      "text/html": [
       "<div>\n",
       "<style scoped>\n",
       "    .dataframe tbody tr th:only-of-type {\n",
       "        vertical-align: middle;\n",
       "    }\n",
       "\n",
       "    .dataframe tbody tr th {\n",
       "        vertical-align: top;\n",
       "    }\n",
       "\n",
       "    .dataframe thead th {\n",
       "        text-align: right;\n",
       "    }\n",
       "</style>\n",
       "<table border=\"1\" class=\"dataframe\">\n",
       "  <thead>\n",
       "    <tr style=\"text-align: right;\">\n",
       "      <th></th>\n",
       "      <th>currency_name</th>\n",
       "      <th>currency_in_usd</th>\n",
       "      <th>full_name</th>\n",
       "    </tr>\n",
       "  </thead>\n",
       "  <tbody>\n",
       "    <tr>\n",
       "      <th>0</th>\n",
       "      <td>EUR</td>\n",
       "      <td>150.100</td>\n",
       "      <td>Иван Иванов</td>\n",
       "    </tr>\n",
       "    <tr>\n",
       "      <th>1</th>\n",
       "      <td>EUR</td>\n",
       "      <td>17.000</td>\n",
       "      <td>Иван Иванов</td>\n",
       "    </tr>\n",
       "    <tr>\n",
       "      <th>2</th>\n",
       "      <td>EUR</td>\n",
       "      <td>158.000</td>\n",
       "      <td>Иван Иванов</td>\n",
       "    </tr>\n",
       "    <tr>\n",
       "      <th>3</th>\n",
       "      <td>JPY</td>\n",
       "      <td>0.948</td>\n",
       "      <td>not defined not defined</td>\n",
       "    </tr>\n",
       "    <tr>\n",
       "      <th>4</th>\n",
       "      <td>USD</td>\n",
       "      <td>120.000</td>\n",
       "      <td>not defined not defined</td>\n",
       "    </tr>\n",
       "  </tbody>\n",
       "</table>\n",
       "</div>"
      ],
      "text/plain": [
       "  currency_name  currency_in_usd                full_name\n",
       "0           EUR          150.100              Иван Иванов\n",
       "1           EUR           17.000              Иван Иванов\n",
       "2           EUR          158.000              Иван Иванов\n",
       "3           JPY            0.948  not defined not defined\n",
       "4           USD          120.000  not defined not defined"
      ]
     },
     "execution_count": 21,
     "metadata": {},
     "output_type": "execute_result"
    }
   ],
   "source": [
    "cur_balance.head()"
   ]
  },
  {
   "cell_type": "code",
   "execution_count": 36,
   "id": "8111fa81",
   "metadata": {},
   "outputs": [
    {
     "name": "stderr",
     "output_type": "stream",
     "text": [
      "/Users/sviatie/anaconda3/lib/python3.11/site-packages/seaborn/axisgrid.py:118: UserWarning: The figure layout has changed to tight\n",
      "  self._figure.tight_layout(*args, **kwargs)\n"
     ]
    },
    {
     "data": {
      "text/plain": [
       "<Figure size 1000x600 with 0 Axes>"
      ]
     },
     "metadata": {},
     "output_type": "display_data"
    },
    {
     "data": {
      "image/png": "[encoded data removed]",
      "text/plain": [
       "<Figure size 1327.35x600 with 1 Axes>"
      ]
     },
     "metadata": {},
     "output_type": "display_data"
    }
   ],
   "source": [
    "aggregated_df = cur_balance.groupby(['full_name', 'currency_name'], as_index=False).sum()\n",
    "\n",
    "# Plotting\n",
    "\n",
    "plt.figure(figsize=(10, 6))\n",
    "sns.set(style=\"whitegrid\")\n",
    "g = sns.catplot(\n",
    "    data=aggregated_df, \n",
    "    kind=\"bar\", \n",
    "    x=\"full_name\", \n",
    "    y=\"currency_in_usd\", \n",
    "    hue=\"currency_name\", \n",
    "    height=6, \n",
    "    aspect=2\n",
    ")\n",
    "g.set_axis_labels(\"Name\", \"Balance in USD\")\n",
    "g.set_titles(\"Currencies and their values for each name\")\n",
    "g.legend.set_title(\"Currency\")\n",
    "\n",
    "plt.show()"
   ]
  }
 ],
 "metadata": {
  "kernelspec": {
   "display_name": "Python 3 (ipykernel)",
   "language": "python",
   "name": "python3"
  },
  "language_info": {
   "codemirror_mode": {
    "name": "ipython",
    "version": 3
   },
   "file_extension": ".py",
   "mimetype": "text/x-python",
   "name": "python",
   "nbconvert_exporter": "python",
   "pygments_lexer": "ipython3",
   "version": "3.11.5"
  }
 },
 "nbformat": 4,
 "nbformat_minor": 5
}
